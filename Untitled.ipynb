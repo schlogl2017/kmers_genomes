{
 "cells": [
  {
   "cell_type": "code",
   "execution_count": 26,
   "id": "needed-characterization",
   "metadata": {},
   "outputs": [],
   "source": [
    "import os\n",
    "import glob\n",
    "import subprocess as sp\n",
    "from collections import defaultdict\n",
    "import pandas as pd\n",
    "import numpy as np\n",
    "import matplotlib.pyplot as plt"
   ]
  },
  {
   "cell_type": "code",
   "execution_count": 27,
   "id": "controlling-spouse",
   "metadata": {},
   "outputs": [],
   "source": [
    "def plot_base_frequency_genome(x_data, y_data, x_label, y_label):\n",
    "    base_markers = {\"A\": \"b-\",\n",
    "                    \"C\": \"r-\",\n",
    "                    \"G\": \"g-\",\n",
    "                    \"T\": \"y-\",\n",
    "                    \"N\": \"k-\"}\n",
    "    fig = plt.figure(figsize=(16, 8))\n",
    "    ax = fig.add_subplot(111)\n",
    "    y_names = []\n",
    "    for y in y_data:\n",
    "        y_names.append(y)\n",
    "        ax.plot(x_data, y_data[y], base_markers[y], label=y)\n",
    "    plt.xlabel(x_label)\n",
    "    plt.ylabel(y_label)\n",
    "    ax.legend(y_names)\n",
    "    plt.grid(True)"
   ]
  },
  {
   "cell_type": "code",
   "execution_count": 36,
   "id": "excessive-gambling",
   "metadata": {},
   "outputs": [],
   "source": [
    "def get_sequence_skew(sequence):\n",
    "    \"\"\"Returns the difference between the total number of\n",
    "    occurrences of G and the total number of occurrences of C in\n",
    "    the first i elements of the sequence. \"\"\"\n",
    "    sequence = sequence.upper()\n",
    "    skew = [0]\n",
    "    for idx, element in enumerate(sequence):\n",
    "        if sequence[idx] == 'G':\n",
    "            skew.append(skew[idx] + 1)\n",
    "        elif sequence[idx] == 'C':\n",
    "            skew.append(skew[idx] - 1)\n",
    "        else:\n",
    "            skew.append(skew[idx])\n",
    "    return skew"
   ]
  },
  {
   "cell_type": "code",
   "execution_count": 37,
   "id": "worse-picnic",
   "metadata": {},
   "outputs": [],
   "source": [
    "def count_umbiguous_bases(sequence):\n",
    "    sequence = sequence.upper()\n",
    "    amb = ['N', 'R', 'Y', 'W', 'S', 'K', 'M']\n",
    "    return sum({base: sequence.count(base) for base in amb}.values())\n",
    "\n",
    "\n",
    "def base_stats(sequence, alphabet, as_count=False, as_dict=False):\n",
    "    \"\"\"Calculates de frequency or the number of bases in a sequence.\n",
    "    Inputs:\n",
    "    sequence - string representing the sequence\n",
    "    alphabet - a alphabet (strings characters) that compound the string sequence\n",
    "    as_count - boolean set as False\n",
    "    as_dict - boolean set as False\n",
    "    Output:\n",
    "    counts - as default returns a numpy array as frequencies (floats)\n",
    "    > baseFreqs(seq, 'ACGT', asCounts = False, asDict = False)\n",
    "    array([0.25, 0.25, 0.25, 0.25])\n",
    "    as_count - True, returns a numpy array of counts (integer)\n",
    "    > baseFreqs('ACGTACGT', 'ACGT', asCounts = True, asDict = False)\n",
    "    array([2, 2, 2, 2])\n",
    "    as_dict - True and as_count as default (False) returns a dictionary as bases frequencies (float)\n",
    "    > baseFreqs('ACGTACGT', 'ACGT', asCounts = False, asDict = True)\n",
    "    {'A': 0.25, 'C': 0.25, 'G': 0.25, 'T': 0.25}\n",
    "    as_count True and as_dict True, returns a dictionary as base counts (integer)\n",
    "    > baseFreqs('ACGTACGT', 'ACGT', asCounts = True, asDict = True)\n",
    "    {'A': 2, 'C': 2, 'G': 2, 'T': 2}\n",
    "    \"\"\"\n",
    "    seq = sequence.upper()\n",
    "    counts = np.array([seq.count(i) for i in alphabet])\n",
    "    if as_count:\n",
    "        freqs = counts\n",
    "    else:\n",
    "        freqs = counts / sum(counts * 1.0)\n",
    "    if as_dict:\n",
    "        return dict(zip(alphabet, freqs))\n",
    "    else:\n",
    "        return freqs"
   ]
  },
  {
   "cell_type": "code",
   "execution_count": 38,
   "id": "protected-democracy",
   "metadata": {},
   "outputs": [],
   "source": [
    "s = 'ATGGGTTGGTCAATCATCTGATTTAATGGGCAAATTTTTAAAGATGCACATTATATCAGCAAAAAATCGAACCTGTTGGG\\\n",
    "TCTTGCGCAGGGTGCCGGACTTGGCCTAGTTTTGGGCCTCAAGATGACGATCAAATGACGAAAGCTTGCCTGGTCGAGGG\\\n",
    "TTTTTTCAACCGTCGATTGCGGGAGCGGGGTTGTGCGGCCGTATGGCGGAAATCGCTATTCGGTTGAGCTGGGACGATGG\\\n",
    "CAGGACGGGGAGCGGTGCGCTTGGACACGCAAACTTGGCAGGAACAGGGGCTCGAAACCCGGTCTCCGGGACGCACGCGC\\\n",
    "GGTGAAATCAGCCAGGATGAACTGGCGCACCAGTGGAGCCGTGTTCGCGGCCGACTTCAGGAAGAAATCGGCGAGGTCGA\\\n",
    "GTACCGCAACTGGTTGCGGCAAGCCGTGCTGCATGGGCTCGACGGCGATGAAGTGACTGTCATGCTGCCGACCCGCTTCC\\\n",
    "TGCGTGACTGGGTGAACAAGGAATATGGCAACCTGCTGACCGCGTTCTGGCAGGCCGAGAACCCGGCGGTACGGCGCGTG\\\n",
    "GATATCCGGACCCGGCCGGCCGGCACCAGCGAGCGCGCGCCCGACCTCGCCGAGGTGGAGCCGAAGACCGCGATCGCGCG\\\n",
    "GCCCGCCGCCGCGGCGCGCCGCGAGGCCGAGGAACGCCCGGACATGAGCGCGCCGCTCGACCCGCGCTTCACCTTTGATA\\\n",
    "CATTCGTGGTCGGCAAGCCGAACGAATTCGCCTATGCCTGCGCGCGCCGCGTCGCCGACGGGCACGCGTCGCCGGGGTTC\\\n",
    "AATCCGCTGTTCCTCTACGGCGGTGTCGGTCTCGGCAAGACCCATCTGATGCACGCGATTGCCTGGGAACTGTCGCAGCG'"
   ]
  },
  {
   "cell_type": "code",
   "execution_count": 49,
   "id": "literary-algebra",
   "metadata": {},
   "outputs": [],
   "source": [
    "bases = base_stats(s, 'ACGT', as_count=False, as_dict=True)"
   ]
  },
  {
   "cell_type": "code",
   "execution_count": 50,
   "id": "dramatic-wrist",
   "metadata": {},
   "outputs": [
    {
     "data": {
      "text/plain": [
       "{'A': 0.19090909090909092,\n",
       " 'C': 0.2875,\n",
       " 'G': 0.3409090909090909,\n",
       " 'T': 0.1806818181818182}"
      ]
     },
     "execution_count": 50,
     "metadata": {},
     "output_type": "execute_result"
    }
   ],
   "source": [
    "bases"
   ]
  },
  {
   "cell_type": "code",
   "execution_count": 40,
   "id": "marked-packaging",
   "metadata": {},
   "outputs": [],
   "source": [
    "x, y = list(bases.keys()), np.array(list(bases.values()))"
   ]
  },
  {
   "cell_type": "code",
   "execution_count": 45,
   "id": "binding-numbers",
   "metadata": {},
   "outputs": [],
   "source": [
    "y = get_sequence_skew(s)"
   ]
  },
  {
   "cell_type": "code",
   "execution_count": 46,
   "id": "norwegian-driver",
   "metadata": {},
   "outputs": [],
   "source": [
    "x = list(range(0, len(s)))"
   ]
  },
  {
   "cell_type": "code",
   "execution_count": 47,
   "id": "ancient-webster",
   "metadata": {},
   "outputs": [
    {
     "ename": "KeyError",
     "evalue": "0",
     "output_type": "error",
     "traceback": [
      "\u001b[0;31m---------------------------------------------------------------------------\u001b[0m",
      "\u001b[0;31mKeyError\u001b[0m                                  Traceback (most recent call last)",
      "\u001b[0;32m<ipython-input-47-c5cd8cdc98d0>\u001b[0m in \u001b[0;36m<module>\u001b[0;34m\u001b[0m\n\u001b[0;32m----> 1\u001b[0;31m \u001b[0mplot_base_frequency_genome\u001b[0m\u001b[0;34m(\u001b[0m\u001b[0mx\u001b[0m\u001b[0;34m,\u001b[0m \u001b[0my\u001b[0m\u001b[0;34m,\u001b[0m \u001b[0;34m'x_label'\u001b[0m\u001b[0;34m,\u001b[0m \u001b[0;34m'y_label'\u001b[0m\u001b[0;34m)\u001b[0m\u001b[0;34m\u001b[0m\u001b[0;34m\u001b[0m\u001b[0m\n\u001b[0m",
      "\u001b[0;32m<ipython-input-27-e068094940b6>\u001b[0m in \u001b[0;36mplot_base_frequency_genome\u001b[0;34m(x_data, y_data, x_label, y_label)\u001b[0m\n\u001b[1;32m     10\u001b[0m     \u001b[0;32mfor\u001b[0m \u001b[0my\u001b[0m \u001b[0;32min\u001b[0m \u001b[0my_data\u001b[0m\u001b[0;34m:\u001b[0m\u001b[0;34m\u001b[0m\u001b[0;34m\u001b[0m\u001b[0m\n\u001b[1;32m     11\u001b[0m         \u001b[0my_names\u001b[0m\u001b[0;34m.\u001b[0m\u001b[0mappend\u001b[0m\u001b[0;34m(\u001b[0m\u001b[0my\u001b[0m\u001b[0;34m)\u001b[0m\u001b[0;34m\u001b[0m\u001b[0;34m\u001b[0m\u001b[0m\n\u001b[0;32m---> 12\u001b[0;31m         \u001b[0max\u001b[0m\u001b[0;34m.\u001b[0m\u001b[0mplot\u001b[0m\u001b[0;34m(\u001b[0m\u001b[0mx_data\u001b[0m\u001b[0;34m,\u001b[0m \u001b[0my_data\u001b[0m\u001b[0;34m[\u001b[0m\u001b[0my\u001b[0m\u001b[0;34m]\u001b[0m\u001b[0;34m,\u001b[0m \u001b[0mbase_markers\u001b[0m\u001b[0;34m[\u001b[0m\u001b[0my\u001b[0m\u001b[0;34m]\u001b[0m\u001b[0;34m,\u001b[0m \u001b[0mlabel\u001b[0m\u001b[0;34m=\u001b[0m\u001b[0my\u001b[0m\u001b[0;34m)\u001b[0m\u001b[0;34m\u001b[0m\u001b[0;34m\u001b[0m\u001b[0m\n\u001b[0m\u001b[1;32m     13\u001b[0m     \u001b[0mplt\u001b[0m\u001b[0;34m.\u001b[0m\u001b[0mxlabel\u001b[0m\u001b[0;34m(\u001b[0m\u001b[0mx_label\u001b[0m\u001b[0;34m)\u001b[0m\u001b[0;34m\u001b[0m\u001b[0;34m\u001b[0m\u001b[0m\n\u001b[1;32m     14\u001b[0m     \u001b[0mplt\u001b[0m\u001b[0;34m.\u001b[0m\u001b[0mylabel\u001b[0m\u001b[0;34m(\u001b[0m\u001b[0my_label\u001b[0m\u001b[0;34m)\u001b[0m\u001b[0;34m\u001b[0m\u001b[0;34m\u001b[0m\u001b[0m\n",
      "\u001b[0;31mKeyError\u001b[0m: 0"
     ]
    },
    {
     "data": {
      "image/png": "[encoded data removed]",
      "text/plain": [
       "<Figure size 1152x576 with 1 Axes>"
      ]
     },
     "metadata": {
      "needs_background": "light"
     },
     "output_type": "display_data"
    }
   ],
   "source": [
    "plot_base_frequency_genome(x, y, 'x_label', 'y_label')"
   ]
  },
  {
   "cell_type": "code",
   "execution_count": null,
   "id": "harmful-weather",
   "metadata": {},
   "outputs": [],
   "source": []
  },
  {
   "cell_type": "code",
   "execution_count": null,
   "id": "personalized-surveillance",
   "metadata": {},
   "outputs": [],
   "source": []
  },
  {
   "cell_type": "code",
   "execution_count": null,
   "id": "warming-shakespeare",
   "metadata": {},
   "outputs": [],
   "source": [
    "text = 'test.txt'"
   ]
  },
  {
   "cell_type": "code",
   "execution_count": null,
   "id": "wireless-confusion",
   "metadata": {},
   "outputs": [],
   "source": [
    "names = [name.strip() for name in open(text, 'r')]"
   ]
  },
  {
   "cell_type": "code",
   "execution_count": null,
   "id": "medical-helping",
   "metadata": {},
   "outputs": [],
   "source": [
    "names"
   ]
  },
  {
   "cell_type": "code",
   "execution_count": null,
   "id": "manufactured-plane",
   "metadata": {},
   "outputs": [],
   "source": [
    "path = f'Data/bacteria_splitted_kmers_cvs/{names[0]}/chromosomes/kmer*/*.csv' # use your path"
   ]
  },
  {
   "cell_type": "code",
   "execution_count": null,
   "id": "meaning-happiness",
   "metadata": {},
   "outputs": [],
   "source": [
    "path"
   ]
  },
  {
   "cell_type": "code",
   "execution_count": null,
   "id": "significant-aggregate",
   "metadata": {},
   "outputs": [],
   "source": [
    "all_filenames = [i for i in glob.glob(path)]"
   ]
  },
  {
   "cell_type": "code",
   "execution_count": null,
   "id": "romance-director",
   "metadata": {},
   "outputs": [],
   "source": [
    "#combine all files in the list\n",
    "combined_csv = pd.concat([pd.read_csv(f) for f in all_filenames ])\n",
    "#export to csv\n",
    "# combined_csv.to_csv( \"combined_csv.csv\", index=False, encoding='utf-8-sig')"
   ]
  },
  {
   "cell_type": "code",
   "execution_count": null,
   "id": "narrow-checkout",
   "metadata": {},
   "outputs": [],
   "source": [
    "kmers = combined_csv['kmers'].values"
   ]
  },
  {
   "cell_type": "code",
   "execution_count": null,
   "id": "informed-february",
   "metadata": {},
   "outputs": [],
   "source": [
    "lens = [len(kmer) for kmer in kmers]"
   ]
  },
  {
   "cell_type": "code",
   "execution_count": null,
   "id": "dangerous-nursing",
   "metadata": {},
   "outputs": [],
   "source": [
    "min(lens), max(lens)"
   ]
  },
  {
   "cell_type": "code",
   "execution_count": null,
   "id": "sound-martial",
   "metadata": {},
   "outputs": [],
   "source": [
    "combined_csv"
   ]
  },
  {
   "cell_type": "code",
   "execution_count": null,
   "id": "grand-lesbian",
   "metadata": {},
   "outputs": [],
   "source": [
    "def generate_new_df(filename):\n",
    "    return pd.read_csv(filename, dtype={'kmer': str, 'count': np.int32})\n",
    "\n",
    "\n",
    "def get_df_from_csv_lists(spc_name, csv_paths):\n",
    "    dfs = [generate_new_df(csv) for csv in csv_paths[spc_name]]\n",
    "    return dfs"
   ]
  },
  {
   "cell_type": "code",
   "execution_count": null,
   "id": "historic-papua",
   "metadata": {},
   "outputs": [],
   "source": [
    "species = [name.strip() for name in open(text, 'r')]"
   ]
  },
  {
   "cell_type": "code",
   "execution_count": null,
   "id": "rough-macedonia",
   "metadata": {},
   "outputs": [],
   "source": [
    "extension = 'csv'\n",
    "dir_name = 'Data/bacteria_splitted_kmers_cvs'\n",
    "sub_dir = 'chromosomes'\n",
    "subsubdir = 'kmer*'"
   ]
  },
  {
   "cell_type": "code",
   "execution_count": null,
   "id": "expensive-festival",
   "metadata": {},
   "outputs": [],
   "source": [
    "all_csvs = defaultdict(list)\n",
    "for name in species:\n",
    "    all_csvs[name] = all_csvs.get(name, [])\n",
    "    full_name_dir = os.path.join(dir_name, name, sub_dir, subsubdir)\n",
    "    for f in glob.glob(full_name_dir + f'/*.{extension}'):\n",
    "        all_csvs[name].append(f)"
   ]
  },
  {
   "cell_type": "code",
   "execution_count": null,
   "id": "communist-cigarette",
   "metadata": {},
   "outputs": [],
   "source": [
    "all_csvs"
   ]
  },
  {
   "cell_type": "code",
   "execution_count": null,
   "id": "large-centre",
   "metadata": {},
   "outputs": [],
   "source": [
    "len(all_csvs['Acidiphilium']), len(all_csvs['Acidipropionibacterium'])"
   ]
  },
  {
   "cell_type": "code",
   "execution_count": null,
   "id": "indian-estonia",
   "metadata": {},
   "outputs": [],
   "source": [
    "dir_out = 'Results/tests'\n",
    "sub_sub_dir = 'Merged'"
   ]
  },
  {
   "cell_type": "code",
   "execution_count": null,
   "id": "russian-morning",
   "metadata": {},
   "outputs": [],
   "source": [
    "# dict_dfs = defaultdict(list)\n",
    "for name, filename in all_csvs.items():\n",
    "    #dict_dfs[name] = dict_dfs.get(name, [])\n",
    "    data = get_df_from_csv_lists(name, all_csvs)\n",
    "    data_frame = pd.concat(data, axis=0, ignore_index=True)\n",
    "    data_frame['counts'] = data_frame['counts'].astype(int)\n",
    "    fullname = os.path.join(dir_out, name, sub_dir, sub_sub_dir)\n",
    "    print(fullname)\n",
    "    csv_name = f'{name}_allmerged.csv'\n",
    "    print(csv_name)\n",
    "    if not os.path.exists(fullname):\n",
    "        os.makedirs(fullname)\n",
    "    data_frame.to_csv(f'{fullname}/{csv_name}', index=False)\n",
    "\n",
    "\n",
    "#frame = pd.concat(li, axis=0, ignore_index=True)"
   ]
  },
  {
   "cell_type": "code",
   "execution_count": null,
   "id": "standard-combination",
   "metadata": {},
   "outputs": [],
   "source": [
    "data_frame.head()"
   ]
  },
  {
   "cell_type": "code",
   "execution_count": null,
   "id": "radio-australia",
   "metadata": {},
   "outputs": [],
   "source": [
    "data_frame['kmers'].str.len().min()"
   ]
  },
  {
   "cell_type": "code",
   "execution_count": null,
   "id": "level-ancient",
   "metadata": {},
   "outputs": [],
   "source": [
    "data_frame['kmers'].str.len().sort_values().index"
   ]
  },
  {
   "cell_type": "code",
   "execution_count": null,
   "id": "continuing-lewis",
   "metadata": {},
   "outputs": [],
   "source": [
    "data_frame.iloc[897531]"
   ]
  },
  {
   "cell_type": "code",
   "execution_count": null,
   "id": "curious-consultation",
   "metadata": {},
   "outputs": [],
   "source": [
    "nomes = []\n",
    "with open('nomes_para_fasta.txt', 'r') as fh:\n",
    "    for line in fh:\n",
    "        name = line.strip().split('_')\n",
    "        if len(name) <= 1 or name == '':\n",
    "            pass\n",
    "        nomes.append('_'.join(line.strip().replace('.', '_').split('_')[:-2]))"
   ]
  },
  {
   "cell_type": "code",
   "execution_count": null,
   "id": "finite-battlefield",
   "metadata": {},
   "outputs": [],
   "source": [
    "for name in nomes:\n",
    "    print(name)"
   ]
  },
  {
   "cell_type": "code",
   "execution_count": null,
   "id": "capital-invite",
   "metadata": {},
   "outputs": [],
   "source": [
    "with open('python_names_fasta', 'w') as fout:\n",
    "    for name in nomes:\n",
    "        fout.write(name +'\\n')"
   ]
  },
  {
   "cell_type": "code",
   "execution_count": null,
   "id": "continuing-battle",
   "metadata": {},
   "outputs": [],
   "source": [
    "'NC_011992.1_Acidovorax_ebreus_TPSY_complete_sequence.fna.gz'.replace('.', '_').split('_')[:-2]"
   ]
  },
  {
   "cell_type": "code",
   "execution_count": null,
   "id": "solid-hello",
   "metadata": {},
   "outputs": [],
   "source": [
    "filename = 'Data/bacteria_splited/Thiomonas/chromosomes/NZ_FMBPP01000013.1_Thiomonas_sp.X10_whole_genome_shotgun_sequence.fna.gz'"
   ]
  },
  {
   "cell_type": "code",
   "execution_count": null,
   "id": "controversial-neutral",
   "metadata": {},
   "outputs": [],
   "source": [
    "filename.split('/')"
   ]
  },
  {
   "cell_type": "code",
   "execution_count": null,
   "id": "serial-imaging",
   "metadata": {},
   "outputs": [],
   "source": [
    "'_'.join(filename.split('/')[-1].replace('.', '_').split('_')[:-2])"
   ]
  },
  {
   "cell_type": "code",
   "execution_count": null,
   "id": "bound-hello",
   "metadata": {},
   "outputs": [],
   "source": []
  },
  {
   "cell_type": "code",
   "execution_count": null,
   "id": "negative-peoples",
   "metadata": {},
   "outputs": [],
   "source": []
  },
  {
   "cell_type": "code",
   "execution_count": null,
   "id": "musical-insert",
   "metadata": {},
   "outputs": [],
   "source": []
  },
  {
   "cell_type": "code",
   "execution_count": null,
   "id": "logical-palestinian",
   "metadata": {},
   "outputs": [],
   "source": []
  },
  {
   "cell_type": "code",
   "execution_count": null,
   "id": "flush-italic",
   "metadata": {},
   "outputs": [],
   "source": []
  },
  {
   "cell_type": "code",
   "execution_count": null,
   "id": "posted-jimmy",
   "metadata": {},
   "outputs": [],
   "source": [
    "p\")\n",
    "    X_test = grp.create_dataset('X_test', data=test[0], dtype='int8', compression=\"gzip\")\n",
    "    Y_test = grp.create_dataset('Y_test', data=test[1], dtype='int8', compression=\"gzip\")\n",
    "\n",
    "\n",
    "core_names = ['Arid3a', 'CEBPB', 'FOSL1', 'Gabpa', 'MAFK', 'MAX', \n",
    "              'MEF2A', 'NFYB', 'SP1', 'SRF', 'STAT1', 'YY1']\n",
    "core_index = [592, 602, 344, 345, 635, 636, 349, 642, 359, 361, 661, 369]\n",
    "#core_index =  [547, 602, 344, 345, 635, 636, 218, 642, 237, 238, 535, 369]\n",
    "\n",
    "# save datasets in a hdf5 file under groups HepG2 and K562\n",
    "data_path = data_dir\n",
    "\n",
    "# load deep sea dataset\n",
    "train, valid, test = load_DeepSea_subset(data_path, class_range=core_index)\n",
    "\n",
    "\n",
    "print(\"number of training samples for each class\")\n",
    "np.sum(train[1], axis=0)\n",
    "\n",
    "\n",
    "#train, valid = process_DeepSea_subset(train, valid, valid_percentage=0.1)        \n",
    "with h5py.File('Deepsea_deepomics/Deepsea_train/invivo_dataset.h5', 'w') as fout:\n",
    "    X_train = fout.create_dataset('X_train', data=train[0], dtype='int8', compression=\"gzip\")\n",
    "    Y_train = fout.create_dataset('Y_train', data=train[1], dtype='int8', compression=\"gzip\")\n",
    "    X_valid = fout.create_dataset('X_valid', data=valid[0], dtype='int8', compression=\"gzip\")\n",
    "    Y_valid = fout.create_dataset('Y_valid', data=valid[1], dtype='int8', compression=\"gzip\")\n",
    "    X_test = fout.create_dataset('X_test', data=test[0], dtype='int8', compression=\"gzip\")\n",
    "    Y_test = fout.create_dataset('Y_test', data=test[1], dtype='int8', compression=\"gzip\")\n"
   ]
  },
  {
   "cell_type": "code",
   "execution_count": null,
   "id": "generous-customer",
   "metadata": {},
   "outputs": [],
   "source": [
    "    def data_subset(y, class_range):\n",
    "        \" gets a subset of data in the class_range\"\n",
    "        data_index = []\n",
    "        for i in class_range:\n",
    "            index = np.where(y[:, i] == 1)[0]\n",
    "            data_index = np.concatenate((data_index, index), axis=0)\n",
    "        unique_index = np.unique(data_index)\n",
    "        return unique_index.astype(int)"
   ]
  },
  {
   "cell_type": "code",
   "execution_count": null,
   "id": "statistical-laugh",
   "metadata": {},
   "outputs": [],
   "source": [
    "data_subset(1, [592, 602, 344, 345, 635, 636, 349, 642, 359, 361, 661, 369])"
   ]
  },
  {
   "cell_type": "code",
   "execution_count": 2,
   "id": "synthetic-amber",
   "metadata": {},
   "outputs": [],
   "source": [
    "cmd1 = \"tar -xvf deepsea_train_bundle.v0.9.tar.gz Deepsea_deepomics/Data\""
   ]
  },
  {
   "cell_type": "code",
   "execution_count": 3,
   "id": "valid-world",
   "metadata": {},
   "outputs": [
    {
     "data": {
      "text/plain": [
       "'tar -xvf deepsea_train_bundle.v0.9.tar.gz Deepsea_deepomics/Data'"
      ]
     },
     "execution_count": 3,
     "metadata": {},
     "output_type": "execute_result"
    }
   ],
   "source": [
    "cmd1"
   ]
  },
  {
   "cell_type": "code",
   "execution_count": 4,
   "id": "challenging-advance",
   "metadata": {},
   "outputs": [
    {
     "data": {
      "text/plain": [
       "2"
      ]
     },
     "execution_count": 4,
     "metadata": {},
     "output_type": "execute_result"
    }
   ],
   "source": [
    "sp.call(cmd1, shell=True)"
   ]
  },
  {
   "cell_type": "code",
   "execution_count": null,
   "id": "behind-today",
   "metadata": {},
   "outputs": [],
   "source": [
    "path = \"Deepsea_deepomics/Data\""
   ]
  },
  {
   "cell_type": "code",
   "execution_count": null,
   "id": "medium-given",
   "metadata": {},
   "outputs": [],
   "source": [
    "cmd = 'wget http://deepsea.princeton.edu/media/code/deepsea_train_bundle.v0.9.tar.gz'"
   ]
  },
  {
   "cell_type": "code",
   "execution_count": null,
   "id": "contemporary-antenna",
   "metadata": {},
   "outputs": [],
   "source": []
  }
 ],
 "metadata": {
  "kernelspec": {
   "display_name": "Python 3",
   "language": "python",
   "name": "python3"
  },
  "language_info": {
   "codemirror_mode": {
    "name": "ipython",
    "version": 3
   },
   "file_extension": ".py",
   "mimetype": "text/x-python",
   "name": "python",
   "nbconvert_exporter": "python",
   "pygments_lexer": "ipython3",
   "version": "3.8.5"
  }
 },
 "nbformat": 4,
 "nbformat_minor": 5
}
